{
  "nbformat": 4,
  "nbformat_minor": 0,
  "metadata": {
    "colab": {
      "provenance": []
    },
    "kernelspec": {
      "name": "python3",
      "display_name": "Python 3"
    },
    "language_info": {
      "name": "python"
    }
  },
  "cells": [
    {
      "cell_type": "code",
      "execution_count": 114,
      "metadata": {
        "id": "MFjxTS5YO_sX"
      },
      "outputs": [],
      "source": [
        "import torch\n",
        "import torch.nn as nn\n",
        "from torch.optim import SGD\n",
        "from torch.utils.data import Dataset, DataLoader, random_split\n",
        "import numpy as np\n",
        "import time"
      ]
    },
    {
      "cell_type": "code",
      "source": [
        "GAME_PER_FILE = 10000\n",
        "DATAPOINTS = 20000\n",
        "\n",
        "\n",
        "class chessds(Dataset):\n",
        "    def __init__(self):\n",
        "        self.length = DATAPOINTS\n",
        "\n",
        "    def __len__(self):\n",
        "        return self.length\n",
        "\n",
        "    def __getitem__(self, idx):\n",
        "        index = (idx // GAME_PER_FILE) * GAME_PER_FILE\n",
        "        filename = f\"{index}.npy\"\n",
        "        data = np.load(filename)\n",
        "        data_select = data[idx%GAME_PER_FILE, :, :, :]\n",
        "        label = torch.tensor([(data_select[17,0,0])])\n",
        "        return torch.from_numpy(data_select[:17,:,:]).float(), float(label.unsqueeze(0))"
      ],
      "metadata": {
        "id": "-p_WIBbRPOqv"
      },
      "execution_count": 124,
      "outputs": []
    },
    {
      "cell_type": "code",
      "source": [
        "ds = chessds()\n",
        "ds.__getitem__(0)[0].shape"
      ],
      "metadata": {
        "colab": {
          "base_uri": "https://localhost:8080/"
        },
        "id": "LFCbiSpvnwqh",
        "outputId": "a7064488-75bc-4d4a-fac7-c60113cb12d1"
      },
      "execution_count": 116,
      "outputs": [
        {
          "output_type": "execute_result",
          "data": {
            "text/plain": [
              "torch.Size([17, 8, 8])"
            ]
          },
          "metadata": {},
          "execution_count": 116
        }
      ]
    },
    {
      "cell_type": "code",
      "source": [
        "def get_data_loader(batch_size):\n",
        "  dataset = chessds()\n",
        "  total_size = len(dataset)\n",
        "  train_size = int(0.6 * total_size)\n",
        "  valid_size = int(0.2 * total_size)\n",
        "  test_size = total_size - train_size - valid_size\n",
        "\n",
        "\n",
        "  train_dataset, valid_dataset, test_dataset = random_split(\n",
        "      dataset, [train_size, valid_size, test_size]\n",
        "  )\n",
        "\n",
        "  train_loader = DataLoader(\n",
        "      train_dataset, batch_size= batch_size, shuffle=True\n",
        "  )\n",
        "  valid_loader = DataLoader(\n",
        "      valid_dataset, batch_size = batch_size, shuffle=True\n",
        "  )\n",
        "  test_loader = DataLoader(\n",
        "      test_dataset, batch_size = batch_size,  shuffle=True\n",
        "  )\n",
        "  return train_loader, valid_loader, test_loader"
      ],
      "metadata": {
        "id": "WTe1tSRNPiW1"
      },
      "execution_count": 117,
      "outputs": []
    },
    {
      "cell_type": "code",
      "source": [
        "# Training\n",
        "def get_model_name(name, batch_size, learning_rate, epoch):\n",
        "    \"\"\" Generate a name for the model consisting of all the hyperparameter values\n",
        "\n",
        "    Args:\n",
        "        config: Configuration object containing the hyperparameters\n",
        "    Returns:\n",
        "        path: A string with the hyperparameter name and value concatenated\n",
        "    \"\"\"\n",
        "    path = \"model_{0}_bs{1}_lr{2}_epoch{3}\".format(name,\n",
        "                                                   batch_size,\n",
        "                                                   learning_rate,\n",
        "                                                   epoch)\n",
        "    return path\n",
        "\n",
        "def evaluate(net, loader, criterion):\n",
        "    \"\"\" Evaluate the network on the validation set.\n",
        "\n",
        "     Args:\n",
        "         net: PyTorch neural network object\n",
        "         loader: PyTorch data loader for the validation set\n",
        "         criterion: The loss function\n",
        "     Returns:\n",
        "         err: A scalar for the avg classification error over the validation set\n",
        "         loss: A scalar for the average loss function over the validation set\n",
        "     \"\"\"\n",
        "    total_loss = 0.0\n",
        "    total_err = 0.0\n",
        "    total_epoch = 0\n",
        "    for i, data in enumerate(loader, 0):\n",
        "        inputs, labels = data\n",
        "        outputs = net(inputs)\n",
        "        loss = criterion(outputs, labels)\n",
        "        corr = (outputs > 0.0).squeeze().long() != labels\n",
        "        total_err += int(corr.sum())\n",
        "        total_loss += loss.item()\n",
        "        total_epoch += len(labels)\n",
        "    err = float(total_err) / total_epoch\n",
        "    loss = float(total_loss) / (i + 1)\n",
        "    return err, loss\n",
        "def plot_training_curve(path):\n",
        "    \"\"\" Plots the training curve for a model run, given the csv files\n",
        "    containing the train/validation error/loss.\n",
        "\n",
        "    Args:\n",
        "        path: The base path of the csv files produced during training\n",
        "    \"\"\"\n",
        "    import matplotlib.pyplot as plt\n",
        "    train_err = np.loadtxt(\"{}_train_err.csv\".format(path))\n",
        "    val_err = np.loadtxt(\"{}_val_err.csv\".format(path))\n",
        "    train_loss = np.loadtxt(\"{}_train_loss.csv\".format(path))\n",
        "    val_loss = np.loadtxt(\"{}_val_loss.csv\".format(path))\n",
        "    plt.title(\"Train vs Validation Error\")\n",
        "    n = len(train_err) # number of epochs\n",
        "    plt.plot(range(1,n+1), train_err, label=\"Train\")\n",
        "    plt.plot(range(1,n+1), val_err, label=\"Validation\")\n",
        "    plt.xlabel(\"Epoch\")\n",
        "    plt.ylabel(\"Error\")\n",
        "    plt.legend(loc='best')\n",
        "    plt.show()\n",
        "    plt.title(\"Train vs Validation Loss\")\n",
        "    plt.plot(range(1,n+1), train_loss, label=\"Train\")\n",
        "    plt.plot(range(1,n+1), val_loss, label=\"Validation\")\n",
        "    plt.xlabel(\"Epoch\")\n",
        "    plt.ylabel(\"Loss\")\n",
        "    plt.legend(loc='best')\n",
        "    plt.show()"
      ],
      "metadata": {
        "id": "Br-DLBY6_Kfi"
      },
      "execution_count": 118,
      "outputs": []
    },
    {
      "cell_type": "code",
      "source": [
        "def train_net(net, batch_size=64, learning_rate=0.01, num_epochs=30):\n",
        "    ########################################################################\n",
        "    # Fixed PyTorch random seed for reproducible result\n",
        "    torch.manual_seed(1000)\n",
        "    ########################################################################\n",
        "    # Obtain the PyTorch data loader objects to load batches of the datasets\n",
        "    train_loader, val_loader, test_loader = get_data_loader(batch_size)\n",
        "    ########################################################################\n",
        "    # Define the Loss function and optimizer\n",
        "    # The loss function will be Binary Cross Entropy (BCE). In this case we\n",
        "    # will use the BCEWithLogitsLoss which takes unnormalized output from\n",
        "    # the neural network and scalar label.\n",
        "    # Optimizer will be SGD with Momentum.\n",
        "    criterion = nn.MSELoss()\n",
        "    optimizer = SGD(net.parameters(), lr=learning_rate, momentum=0.9)\n",
        "    ########################################################################\n",
        "    # Set up some numpy arrays to store the training/test loss/erruracy\n",
        "    train_err = np.zeros(num_epochs)\n",
        "    train_loss = np.zeros(num_epochs)\n",
        "    val_err = np.zeros(num_epochs)\n",
        "    val_loss = np.zeros(num_epochs)\n",
        "    ########################################################################\n",
        "    # Train the network\n",
        "    # Loop over the data iterator and sample a new batch of training data\n",
        "    # Get the output from the network, and optimize our loss function.\n",
        "    start_time = time.time()\n",
        "    for epoch in range(num_epochs):  # loop over the dataset multiple times\n",
        "        total_train_loss = 0.0\n",
        "        total_train_err = 0.0\n",
        "        total_epoch = 0\n",
        "        for i, data in enumerate(train_loader, 0):\n",
        "            # Get the inputs\n",
        "            inputs, labels = data\n",
        "            labels = torch.reshape(labels, (batch_size,1)) # TODO: switch batch_size to length of labels for uncomplete batches\n",
        "            # Zero the parameter gradients\n",
        "            optimizer.zero_grad()\n",
        "            # Forward pass, backward pass, and optimize\n",
        "            outputs = net(inputs)\n",
        "            loss = criterion(outputs, labels.float())\n",
        "            loss.backward()\n",
        "            optimizer.step()\n",
        "            # Calculate the statistics \n",
        "            ## TODO:  need to figure out this stuff\n",
        "            corr = outputs - labels\n",
        "            total_train_err += int(corr.sum())\n",
        "            total_train_loss += loss.item()\n",
        "            total_epoch += batch_size\n",
        "        train_err[epoch], train_loss[epoch] = evaluate(net, train_loader, criterion)\n",
        "        val_err[epoch], val_loss[epoch] = evaluate(net, val_loader, criterion)\n",
        "        print((\"Epoch {}: Train err: {}, Train loss: {} |\"+\n",
        "               \"Validation err: {}, Validation loss: {}\").format(\n",
        "                   epoch + 1,\n",
        "                   train_err[epoch],\n",
        "                   train_loss[epoch],\n",
        "                   val_err[epoch],\n",
        "                   val_loss[epoch]))\n",
        "        # Save the current model (checkpoint) to a file\n",
        "        model_path = get_model_name(net.name, batch_size, learning_rate, epoch)\n",
        "        torch.save(net.state_dict(), model_path)\n",
        "    print('Finished Training')\n",
        "    end_time = time.time()\n",
        "    elapsed_time = end_time - start_time\n",
        "    print(\"Total time elapsed: {:.2f} seconds\".format(elapsed_time))\n",
        "    # Write the train/test loss/err into CSV file for plotting later\n",
        "    epochs = np.arange(1, num_epochs + 1)\n",
        "    np.savetxt(\"{}_train_err.csv\".format(model_path), train_err)\n",
        "    np.savetxt(\"{}_train_loss.csv\".format(model_path), train_loss)\n",
        "    np.savetxt(\"{}_val_err.csv\".format(model_path), val_err)\n",
        "    np.savetxt(\"{}_val_loss.csv\".format(model_path), val_loss)"
      ],
      "metadata": {
        "id": "mr0y430v_Y1j"
      },
      "execution_count": 119,
      "outputs": []
    },
    {
      "cell_type": "code",
      "source": [
        "class CNN(nn.Module):\n",
        "    def __init__(self):\n",
        "        super(CNN, self).__init__()\n",
        "        self.name = \"ismail\"\n",
        "        self.largeCNN = nn.Sequential( \n",
        "            nn.Conv2d(17, 17, 8)\n",
        "        )\n",
        "        self.smallCNN = nn.Sequential( \n",
        "            nn.Conv2d(17, 4, 3) # out is 4 x 6 x 6\n",
        "        )\n",
        "        self.out = nn.Sequential(\n",
        "            nn.Sigmoid()\n",
        "        )\n",
        "        self.fc1 = nn.Linear(17*1, 1)\n",
        "        self.fc2 = nn.Linear(4*6*6, 1)\n",
        "    def forward(self, x):\n",
        "        x1 = self.largeCNN(x).view(-1, 17*1)\n",
        "        x1 = self.fc1(x1)\n",
        "        x2 = self.smallCNN(x).view(-1, 4*6*6)\n",
        "        x2 = self.fc2(x2)\n",
        "        x = self.out(x1 + x2)\n",
        "        return x\n",
        "neuralnet = CNN()"
      ],
      "metadata": {
        "id": "mQ6FCrloCTGY"
      },
      "execution_count": 120,
      "outputs": []
    },
    {
      "cell_type": "code",
      "source": [
        "for param in neuralnet.parameters():\n",
        "    print(param.shape)"
      ],
      "metadata": {
        "id": "EZKy5VudkDWC",
        "colab": {
          "base_uri": "https://localhost:8080/"
        },
        "outputId": "7201412f-a2d0-4dee-ea85-1524fe00bf46"
      },
      "execution_count": 121,
      "outputs": [
        {
          "output_type": "stream",
          "name": "stdout",
          "text": [
            "torch.Size([17, 17, 8, 8])\n",
            "torch.Size([17])\n",
            "torch.Size([4, 17, 3, 3])\n",
            "torch.Size([4])\n",
            "torch.Size([1, 17])\n",
            "torch.Size([1])\n",
            "torch.Size([1, 144])\n",
            "torch.Size([1])\n"
          ]
        }
      ]
    },
    {
      "cell_type": "code",
      "source": [
        "batch_size = 10\n",
        "train_net(neuralnet, num_epochs = 31, batch_size = batch_size)"
      ],
      "metadata": {
        "id": "TXTswYPHjI_h",
        "colab": {
          "base_uri": "https://localhost:8080/"
        },
        "outputId": "0355db76-b299-4aab-e92e-d4ae527e8544"
      },
      "execution_count": 122,
      "outputs": [
        {
          "output_type": "stream",
          "name": "stdout",
          "text": [
            "Epoch 1: Train err: 0.5316666666666666, Train loss: 0.9730763517102332 |Validation err: 0.5235, Validation loss: 0.9716676799727356\n",
            "Epoch 2: Train err: 0.5316666666666666, Train loss: 1.0469837263311639 |Validation err: 0.5235, Validation loss: 1.0381214981250175\n",
            "Epoch 3: Train err: 0.5316666666666666, Train loss: 1.010333412081932 |Validation err: 0.5235, Validation loss: 1.004773959199075\n",
            "Epoch 4: Train err: 0.5316666666666666, Train loss: 1.02719073990013 |Validation err: 0.5235, Validation loss: 1.024209783706334\n",
            "Epoch 5: Train err: 0.5316666666666666, Train loss: 1.0877267508283248 |Validation err: 0.5235, Validation loss: 1.0841830633080243\n",
            "Epoch 6: Train err: 0.5316666666666666, Train loss: 0.9999349844112053 |Validation err: 0.5235, Validation loss: 1.0004288005072626\n",
            "Epoch 7: Train err: 0.5316666666666666, Train loss: 1.0770364414387001 |Validation err: 0.5235, Validation loss: 1.0731457293549072\n",
            "Epoch 8: Train err: 0.5316666666666666, Train loss: 1.0944320255556672 |Validation err: 0.5235, Validation loss: 1.0897571446995966\n",
            "Epoch 9: Train err: 0.5316666666666666, Train loss: 0.9968898514445624 |Validation err: 0.5235, Validation loss: 0.9933409519070578\n",
            "Epoch 10: Train err: 0.5316666666666666, Train loss: 1.0218083910037243 |Validation err: 0.5235, Validation loss: 1.0242598286410955\n",
            "Epoch 11: Train err: 0.5316666666666666, Train loss: 1.036651772562145 |Validation err: 0.5235, Validation loss: 1.034477758699242\n",
            "Epoch 12: Train err: 0.5316666666666666, Train loss: 1.0159065952371766 |Validation err: 0.5235, Validation loss: 1.0135640447538576\n",
            "Epoch 13: Train err: 0.5316666666666666, Train loss: 1.023539240529173 |Validation err: 0.5235, Validation loss: 1.0247922329881716\n",
            "Epoch 14: Train err: 0.5316666666666666, Train loss: 1.1309983437025881 |Validation err: 0.5235, Validation loss: 1.1299830898076177\n",
            "Epoch 15: Train err: 0.5318333333333334, Train loss: 1.0272105966753289 |Validation err: 0.52375, Validation loss: 1.0343325620325552\n",
            "Epoch 16: Train err: 0.5316666666666666, Train loss: 1.0311135573123311 |Validation err: 0.5235, Validation loss: 1.0353496738769201\n",
            "Epoch 17: Train err: 0.5316666666666666, Train loss: 1.0840479253712756 |Validation err: 0.5235, Validation loss: 1.08164271869628\n",
            "Epoch 18: Train err: 0.538, Train loss: 1.0373989075692447 |Validation err: 0.528, Validation loss: 1.033895248604979\n",
            "Epoch 19: Train err: 0.5316666666666666, Train loss: 1.0835026686365092 |Validation err: 0.5235, Validation loss: 1.0803452322371432\n",
            "Epoch 20: Train err: 0.5319166666666667, Train loss: 1.055879694594192 |Validation err: 0.52375, Validation loss: 1.053974648515464\n",
            "Epoch 21: Train err: 0.5845, Train loss: 1.0348659153433053 |Validation err: 0.5735, Validation loss: 1.0356365691430178\n",
            "Epoch 22: Train err: 0.54525, Train loss: 1.0592297109002542 |Validation err: 0.5335, Validation loss: 1.0644570534380167\n",
            "Epoch 23: Train err: 0.533, Train loss: 1.1068341607279346 |Validation err: 0.52375, Validation loss: 1.103334001277977\n",
            "Epoch 24: Train err: 0.64475, Train loss: 1.0332250633097542 |Validation err: 0.6315, Validation loss: 1.0415827630152064\n",
            "Epoch 25: Train err: 0.53475, Train loss: 1.1066821421048567 |Validation err: 0.52525, Validation loss: 1.110801203765238\n",
            "Epoch 26: Train err: 0.5955833333333334, Train loss: 1.059523922885919 |Validation err: 0.58, Validation loss: 1.0579485527336094\n",
            "Epoch 27: Train err: 0.6794166666666667, Train loss: 1.04480807665568 |Validation err: 0.66775, Validation loss: 1.0501909573568375\n",
            "Epoch 28: Train err: 0.7523333333333333, Train loss: 1.03505395785788 |Validation err: 0.7365, Validation loss: 1.0372733531825769\n",
            "Epoch 29: Train err: 0.5554166666666667, Train loss: 1.1020568314695693 |Validation err: 0.543, Validation loss: 1.0997903602452332\n",
            "Epoch 30: Train err: 0.6355, Train loss: 1.0630310964935195 |Validation err: 0.619, Validation loss: 1.0578774874466577\n",
            "Epoch 31: Train err: 0.7446666666666667, Train loss: 1.0470735824056985 |Validation err: 0.732, Validation loss: 1.052837524083217\n",
            "Finished Training\n",
            "Total time elapsed: 2013.35 seconds\n"
          ]
        }
      ]
    },
    {
      "cell_type": "code",
      "source": [
        "small_model_path = get_model_name(\"ismail\", batch_size=batch_size, learning_rate=0.01, epoch=30)\n",
        "plot_training_curve(small_model_path)\n"
      ],
      "metadata": {
        "colab": {
          "base_uri": "https://localhost:8080/",
          "height": 573
        },
        "id": "m3OddkJk0FXR",
        "outputId": "714551c1-b443-4cde-c04d-e25695d4d77c"
      },
      "execution_count": 123,
      "outputs": [
        {
          "output_type": "display_data",
          "data": {
            "text/plain": [
              "<Figure size 432x288 with 1 Axes>"
            ],
            "image/png": "[encoded data removed]"
          },
          "metadata": {
            "needs_background": "light"
          }
        },
        {
          "output_type": "display_data",
          "data": {
            "text/plain": [
              "<Figure size 432x288 with 1 Axes>"
            ],
            "image/png": "[encoded data removed]"
          },
          "metadata": {
            "needs_background": "light"
          }
        }
      ]
    },
    {
      "cell_type": "code",
      "source": [],
      "metadata": {
        "id": "hsyCPfRj9pod"
      },
      "execution_count": 123,
      "outputs": []
    }
  ]
}