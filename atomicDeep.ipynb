{
  "nbformat": 4,
  "nbformat_minor": 0,
  "metadata": {
    "colab": {
      "provenance": []
    },
    "kernelspec": {
      "name": "python3",
      "display_name": "Python 3"
    },
    "language_info": {
      "name": "python"
    }
  },
  "cells": [
    {
      "cell_type": "code",
      "execution_count": 113,
      "metadata": {
        "id": "MFjxTS5YO_sX"
      },
      "outputs": [],
      "source": [
        "import torch\n",
        "import torch.nn as nn\n",
        "from torch.optim import SGD\n",
        "from torch.utils.data import Dataset, DataLoader, random_split\n",
        "import numpy as np\n",
        "import time"
      ]
    },
    {
      "cell_type": "code",
      "source": [
        "GAME_PER_FILE = 1000\n",
        "DATAPOINTS = 50000\n",
        "\n",
        "\n",
        "class chessds(Dataset):\n",
        "    def __init__(self):\n",
        "        self.length = DATAPOINTS\n",
        "\n",
        "    def __len__(self):\n",
        "        return self.length\n",
        "\n",
        "    def __getitem__(self, idx):\n",
        "        index = (idx // GAME_PER_FILE) * GAME_PER_FILE\n",
        "        filename = f\"{index}.npy\"\n",
        "        data = np.load(filename)\n",
        "        data_select = data[idx%GAME_PER_FILE, :, :, :]\n",
        "        label = torch.tensor([(data_select[17,0,0])])\n",
        "        return torch.from_numpy(data_select[:17,:,:]).float(), float(label.unsqueeze(0))"
      ],
      "metadata": {
        "id": "-p_WIBbRPOqv"
      },
      "execution_count": 114,
      "outputs": []
    },
    {
      "cell_type": "code",
      "source": [
        "ds = chessds()\n",
        "ds.__getitem__(10000)[1]"
      ],
      "metadata": {
        "colab": {
          "base_uri": "https://localhost:8080/"
        },
        "id": "LFCbiSpvnwqh",
        "outputId": "d41107cb-a45f-46b5-a073-31a876690d42"
      },
      "execution_count": 115,
      "outputs": [
        {
          "output_type": "execute_result",
          "data": {
            "text/plain": [
              "1.0"
            ]
          },
          "metadata": {},
          "execution_count": 115
        }
      ]
    },
    {
      "cell_type": "code",
      "source": [
        "def get_data_loader(batch_size):\n",
        "  dataset = chessds()\n",
        "  total_size = len(dataset)\n",
        "  train_size = int(0.6 * total_size)\n",
        "  valid_size = int(0.2 * total_size)\n",
        "  test_size = total_size - train_size - valid_size\n",
        "\n",
        "\n",
        "  train_dataset, valid_dataset, test_dataset = random_split(\n",
        "      dataset, [train_size, valid_size, test_size]\n",
        "  )\n",
        "\n",
        "  train_loader = DataLoader(\n",
        "      train_dataset, batch_size= batch_size, shuffle=True\n",
        "  )\n",
        "  valid_loader = DataLoader(\n",
        "      valid_dataset, batch_size = batch_size, shuffle=True\n",
        "  )\n",
        "  test_loader = DataLoader(\n",
        "      test_dataset, batch_size = batch_size,  shuffle=True\n",
        "  )\n",
        "  return train_loader, valid_loader, test_loader"
      ],
      "metadata": {
        "id": "WTe1tSRNPiW1"
      },
      "execution_count": 116,
      "outputs": []
    },
    {
      "cell_type": "code",
      "source": [
        "# Training\n",
        "def get_model_name(name, batch_size, learning_rate, epoch):\n",
        "    \"\"\" Generate a name for the model consisting of all the hyperparameter values\n",
        "\n",
        "    Args:\n",
        "        config: Configuration object containing the hyperparameters\n",
        "    Returns:\n",
        "        path: A string with the hyperparameter name and value concatenated\n",
        "    \"\"\"\n",
        "    path = \"model_{0}_bs{1}_lr{2}_epoch{3}\".format(name,\n",
        "                                                   batch_size,\n",
        "                                                   learning_rate,\n",
        "                                                   epoch)\n",
        "    return path\n",
        "\n",
        "def evaluate(net, loader, criterion):\n",
        "    \"\"\" Evaluate the network on the validation set.\n",
        "\n",
        "     Args:\n",
        "         net: PyTorch neural network object\n",
        "         loader: PyTorch data loader for the validation set\n",
        "         criterion: The loss function\n",
        "     Returns:\n",
        "         err: A scalar for the avg classification error over the validation set\n",
        "         loss: A scalar for the average loss function over the validation set\n",
        "     \"\"\"\n",
        "    total_loss = 0.0\n",
        "    total_err = 0.0\n",
        "    total_epoch = 0\n",
        "    for i, data in enumerate(loader, 0):\n",
        "        inputs, labels = data\n",
        "        outputs = net(inputs)\n",
        "        loss = criterion(outputs, labels)\n",
        "        corr = (outputs > 0.0).squeeze().long() != labels\n",
        "        total_err += int(corr.sum())\n",
        "        total_loss += loss.item()\n",
        "        total_epoch += len(labels)\n",
        "    err = float(total_err) / total_epoch\n",
        "    loss = float(total_loss) / (i + 1)\n",
        "    return err, loss\n",
        "def plot_training_curve(path):\n",
        "    \"\"\" Plots the training curve for a model run, given the csv files\n",
        "    containing the train/validation error/loss.\n",
        "\n",
        "    Args:\n",
        "        path: The base path of the csv files produced during training\n",
        "    \"\"\"\n",
        "    import matplotlib.pyplot as plt\n",
        "    train_err = np.loadtxt(\"{}_train_err.csv\".format(path))\n",
        "    val_err = np.loadtxt(\"{}_val_err.csv\".format(path))\n",
        "    train_loss = np.loadtxt(\"{}_train_loss.csv\".format(path))\n",
        "    val_loss = np.loadtxt(\"{}_val_loss.csv\".format(path))\n",
        "    plt.title(\"Train vs Validation Error\")\n",
        "    n = len(train_err) # number of epochs\n",
        "    plt.plot(range(1,n+1), train_err, label=\"Train\")\n",
        "    plt.plot(range(1,n+1), val_err, label=\"Validation\")\n",
        "    plt.xlabel(\"Epoch\")\n",
        "    plt.ylabel(\"Error\")\n",
        "    plt.legend(loc='best')\n",
        "    plt.show()\n",
        "    plt.title(\"Train vs Validation Loss\")\n",
        "    plt.plot(range(1,n+1), train_loss, label=\"Train\")\n",
        "    plt.plot(range(1,n+1), val_loss, label=\"Validation\")\n",
        "    plt.xlabel(\"Epoch\")\n",
        "    plt.ylabel(\"Loss\")\n",
        "    plt.legend(loc='best')\n",
        "    plt.show()"
      ],
      "metadata": {
        "id": "Br-DLBY6_Kfi"
      },
      "execution_count": 117,
      "outputs": []
    },
    {
      "cell_type": "code",
      "source": [
        "def train_net(net, batch_size=64, learning_rate=0.01, num_epochs=30):\n",
        "    ########################################################################\n",
        "    # Fixed PyTorch random seed for reproducible result\n",
        "    torch.manual_seed(1000)\n",
        "    ########################################################################\n",
        "    # Obtain the PyTorch data loader objects to load batches of the datasets\n",
        "    train_loader, val_loader, test_loader = get_data_loader(batch_size)\n",
        "    ########################################################################\n",
        "    criterion = nn.MSELoss()\n",
        "    optimizer = SGD(net.parameters(), lr=learning_rate, momentum=0.9)\n",
        "    ########################################################################\n",
        "    # Set up some numpy arrays to store the training/test loss/erruracy\n",
        "    train_err = np.zeros(num_epochs)\n",
        "    train_loss = np.zeros(num_epochs)\n",
        "    val_err = np.zeros(num_epochs)\n",
        "    val_loss = np.zeros(num_epochs)\n",
        "    ########################################################################\n",
        "    # Train the network\n",
        "    # Loop over the data iterator and sample a new batch of training data\n",
        "    # Get the output from the network, and optimize our loss function.\n",
        "    start_time = time.time()\n",
        "    for epoch in range(num_epochs):  # loop over the dataset multiple times\n",
        "        total_train_loss = 0.0\n",
        "        total_train_err = 0.0\n",
        "        total_epoch = 0\n",
        "        for i, data in enumerate(train_loader, 0):\n",
        "            # Get the inputs\n",
        "            inputs, labels = data\n",
        "            labels = torch.reshape(labels, (batch_size,1)) # TODO: switch batch_size to length of labels for uncomplete batches\n",
        "            # Zero the parameter gradients\n",
        "            optimizer.zero_grad()\n",
        "            # Forward pass, backward pass, and optimize\n",
        "            outputs = net(inputs)\n",
        "            loss = criterion(outputs, labels.float())\n",
        "            loss.backward()\n",
        "            optimizer.step()\n",
        "            # Calculate the statistics \n",
        "            ## TODO:  need to figure out this stuff\n",
        "            corr = outputs - labels\n",
        "            total_train_err += int(corr.sum())\n",
        "            total_train_loss += loss.item()\n",
        "            total_epoch += batch_size\n",
        "        net.eval()\n",
        "        train_err[epoch], train_loss[epoch] = evaluate(net, train_loader, criterion)\n",
        "        val_err[epoch], val_loss[epoch] = evaluate(net, val_loader, criterion)\n",
        "        net.train()\n",
        "        print((\"Epoch {}: Train err: {}, Train loss: {} |\"+\n",
        "               \"Validation err: {}, Validation loss: {}\").format(\n",
        "                   epoch + 1,\n",
        "                   train_err[epoch],\n",
        "                   train_loss[epoch],\n",
        "                   val_err[epoch],\n",
        "                   val_loss[epoch]))\n",
        "        # Save the current model (checkpoint) to a file\n",
        "        model_path = get_model_name(net.name, batch_size, learning_rate, epoch)\n",
        "        torch.save(net.state_dict(), model_path)\n",
        "    print('Finished Training')\n",
        "    end_time = time.time()\n",
        "    elapsed_time = end_time - start_time\n",
        "    print(\"Total time elapsed: {:.2f} seconds\".format(elapsed_time))\n",
        "    # Write the train/test loss/err into CSV file for plotting later\n",
        "    epochs = np.arange(1, num_epochs + 1)\n",
        "    np.savetxt(\"{}_train_err.csv\".format(model_path), train_err)\n",
        "    np.savetxt(\"{}_train_loss.csv\".format(model_path), train_loss)\n",
        "    np.savetxt(\"{}_val_err.csv\".format(model_path), val_err)\n",
        "    np.savetxt(\"{}_val_loss.csv\".format(model_path), val_loss)"
      ],
      "metadata": {
        "id": "mr0y430v_Y1j"
      },
      "execution_count": 118,
      "outputs": []
    },
    {
      "cell_type": "code",
      "source": [
        "class CNN(nn.Module):\n",
        "    def __init__(self):\n",
        "        super(CNN, self).__init__()\n",
        "        self.name = \"ismail\"\n",
        "        self.largeCNN = nn.Sequential( \n",
        "            nn.Conv2d(17, 17, 7, padding=3),\n",
        "            nn.Conv2d(17,17,8)\n",
        "\n",
        "        )\n",
        "        self.smallCNN = nn.Sequential(  # capture piece surroundings\n",
        "            nn.Conv3d(1, 1, kernel_size=(17,3,3), padding=1) # out is 3*8*8\n",
        "        )\n",
        "        self.out = nn.Sequential(\n",
        "            nn.Tanh() # need output to be in (-1,1)\n",
        "        )\n",
        "        self.fc1 = nn.Linear(17*1, 1)\n",
        "        self.fc2 = nn.Linear(3*8*8, 1)\n",
        "    def forward(self, x):\n",
        "        x1 = self.largeCNN(x).view(-1, 17*1)\n",
        "        x1 = self.fc1(x1)\n",
        "        x2 = self.smallCNN(x.unsqueeze(1)).squeeze(1).view(-1, 3*8*8)\n",
        "        x2 = self.fc2(x2)\n",
        "        x = self.out(x1 + x2)\n",
        "        return x\n",
        "batch_size = 100\n",
        "neuralnet = CNN()"
      ],
      "metadata": {
        "id": "mQ6FCrloCTGY"
      },
      "execution_count": 119,
      "outputs": []
    },
    {
      "cell_type": "code",
      "source": [
        "for param in neuralnet.parameters():\n",
        "    print(param.shape)"
      ],
      "metadata": {
        "id": "EZKy5VudkDWC",
        "colab": {
          "base_uri": "https://localhost:8080/"
        },
        "outputId": "5fa30ea1-1139-44de-d268-78c293f820af"
      },
      "execution_count": 120,
      "outputs": [
        {
          "output_type": "stream",
          "name": "stdout",
          "text": [
            "torch.Size([17, 17, 7, 7])\n",
            "torch.Size([17])\n",
            "torch.Size([17, 17, 8, 8])\n",
            "torch.Size([17])\n",
            "torch.Size([1, 1, 17, 3, 3])\n",
            "torch.Size([1])\n",
            "torch.Size([1, 17])\n",
            "torch.Size([1])\n",
            "torch.Size([1, 192])\n",
            "torch.Size([1])\n"
          ]
        }
      ]
    },
    {
      "cell_type": "code",
      "source": [
        "train_net(neuralnet, num_epochs = 5, batch_size = batch_size)"
      ],
      "metadata": {
        "id": "TXTswYPHjI_h"
      },
      "execution_count": null,
      "outputs": []
    },
    {
      "cell_type": "code",
      "source": [
        "small_model_path = get_model_name(\"ismail\", batch_size=batch_size, learning_rate=0.01, epoch=4)\n",
        "plot_training_curve(small_model_path)\n"
      ],
      "metadata": {
        "id": "m3OddkJk0FXR"
      },
      "execution_count": null,
      "outputs": []
    },
    {
      "cell_type": "code",
      "source": [
        "#!rm -rf /content/*"
      ],
      "metadata": {
        "id": "hsyCPfRj9pod"
      },
      "execution_count": null,
      "outputs": []
    }
  ]
}