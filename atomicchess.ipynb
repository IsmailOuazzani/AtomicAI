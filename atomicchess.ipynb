{
  "nbformat": 4,
  "nbformat_minor": 0,
  "metadata": {
    "colab": {
      "provenance": []
    },
    "kernelspec": {
      "name": "python3",
      "display_name": "Python 3"
    },
    "language_info": {
      "name": "python"
    }
  },
  "cells": [
    {
      "cell_type": "code",
      "execution_count": 6,
      "metadata": {
        "id": "MFjxTS5YO_sX"
      },
      "outputs": [],
      "source": [
        "import torch\n",
        "from torch.utils.data import Dataset, DataLoader\n",
        "import numpy as np"
      ]
    },
    {
      "cell_type": "code",
      "source": [
        "class chessds(Dataset):\n",
        "    def __init__(self):\n",
        "        self.length = 20000\n",
        "\n",
        "    def __len__(self):\n",
        "        return self.length\n",
        "\n",
        "    def __getitem__(self, idx):\n",
        "        index = (idx // 1000) * 1000\n",
        "        filename = f\"{index}.npy\"\n",
        "        data = np.load(filename)\n",
        "        data_select = data[idx%1000, :, :, :]\n",
        "        label = data_select[0,0,17]\n",
        "        return torch.from_numpy(data_select[:,:,:17]).float(), float(label)"
      ],
      "metadata": {
        "id": "-p_WIBbRPOqv"
      },
      "execution_count": 26,
      "outputs": []
    },
    {
      "cell_type": "code",
      "source": [
        "dataset = chessds()\n",
        "dataloader = DataLoader(dataset)"
      ],
      "metadata": {
        "id": "WTe1tSRNPiW1"
      },
      "execution_count": 27,
      "outputs": []
    }
  ]
}